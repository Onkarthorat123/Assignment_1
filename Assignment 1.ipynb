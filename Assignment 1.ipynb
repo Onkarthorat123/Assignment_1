{
 "cells": [
  {
   "cell_type": "markdown",
   "id": "f371ddd4-7a00-49a8-89dc-161f27db832f",
   "metadata": {},
   "source": [
    "1)-> Guido Van Rossum he was developed python programming language."
   ]
  },
  {
   "cell_type": "markdown",
   "id": "04138a17-3e1b-441b-9ba4-24b8f7e1d4bd",
   "metadata": {},
   "source": [
    "2)-> Python Supports object-oriented,structured, and functional programming languages"
   ]
  },
  {
   "cell_type": "markdown",
   "id": "bdbbc842-2346-42fc-a67c-398a1b7a64b6",
   "metadata": {},
   "source": [
    "3)->yes,python is a case-sensitive language.it treats uppercase and lowercase characters differently."
   ]
  },
  {
   "cell_type": "markdown",
   "id": "fcced751-c1f5-412a-8d39-1e5f57b7822a",
   "metadata": {},
   "source": [
    "4)->coorect extension of python file is .py"
   ]
  },
  {
   "cell_type": "markdown",
   "id": "26c277e4-1428-450a-83a1-3991e2af6bf3",
   "metadata": {},
   "source": [
    "5)->python is both compilled as well as an interpreted language."
   ]
  },
  {
   "cell_type": "markdown",
   "id": "3a2eb868-f290-454a-a464-3c094036657e",
   "metadata": {},
   "source": [
    "6)->Python uses indentation to define blocks of code .{},[],()"
   ]
  },
  {
   "cell_type": "markdown",
   "id": "2a8235f8-9d5f-4baf-87ee-3ac3c933966b",
   "metadata": {},
   "source": [
    "7)-> (#) Hash character is used to comment the line in python program."
   ]
  },
  {
   "cell_type": "markdown",
   "id": "a5832d91-5b9b-4cc8-8f22-8e962c7195de",
   "metadata": {},
   "source": [
    "8)-> 1) python ––version. \n",
    "     2) python –version."
   ]
  },
  {
   "cell_type": "markdown",
   "id": "904fc095-c6c1-402f-b31e-88796db40bf6",
   "metadata": {},
   "source": [
    "9)-> It uses a construct called \"lambda\" ."
   ]
  },
  {
   "cell_type": "markdown",
   "id": "8e163da9-c2c3-4014-8bf3-7706128c4d87",
   "metadata": {},
   "source": [
    "10)-> pip Stand For 'Preferred installer program'."
   ]
  },
  {
   "cell_type": "markdown",
   "id": "e5ba8533-2dcf-4e17-801e-a04a66d3e035",
   "metadata": {},
   "source": [
    "11)-> print() Function, type() Function, input() Function, len() Function, sum() Function, help() Function"
   ]
  },
  {
   "cell_type": "markdown",
   "id": "ba246999-da37-486b-8fac-a14fe4b7b460",
   "metadata": {},
   "source": [
    "12)-> 79 Characters is the maximum possible length of identifier in Python"
   ]
  },
  {
   "cell_type": "markdown",
   "id": "4875f1f5-f28c-4d6c-a89c-9439496b63c8",
   "metadata": {},
   "source": [
    "13)-> python  used for developing websites and software, task automation, data analysis, and data visualization. "
   ]
  },
  {
   "cell_type": "markdown",
   "id": "1ee6aa9a-4b55-4590-8e00-5a6c1ba3932f",
   "metadata": {},
   "source": [
    "14)-> Memory in Python is managed by Python private heap space. All Python objects and data structures are located in a private heap. This private heap is taken care of by Python Interpreter itself, and a programmer doesn't have access to this private heap."
   ]
  },
  {
   "cell_type": "markdown",
   "id": "8f9e2d50-c21f-44c0-ab53-a86372f75f1d",
   "metadata": {},
   "source": [
    "15)-> 1)Right-clicking This PC and going to Properties.\n",
    "\n",
    "2)Clicking on the Advanced system settings in the menu on the left.\n",
    "\n",
    "3)Clicking on the Environment Variables button o​n the bottom right.\n",
    "\n",
    "4)In the System variables section, selecting the Path variable and clicking on Edit. The next screen will show all the directories that are currently a part of the PATH variable.\n",
    "\n",
    "5)Clicking on New and entering Python’s install directory."
   ]
  },
  {
   "cell_type": "markdown",
   "id": "8784cd7e-60db-49fd-9fcb-e2eeef123cbc",
   "metadata": {},
   "source": [
    "16)-> Indentation is mandatory in python to define the blocks of statements. It is preferred to use whitespaces instead of tabs to indent in python. Python uses four spaces as default indentation spaces."
   ]
  },
  {
   "cell_type": "code",
   "execution_count": null,
   "id": "8356eacf-c57c-4d4f-8fe9-5254bc740efc",
   "metadata": {},
   "outputs": [],
   "source": []
  }
 ],
 "metadata": {
  "kernelspec": {
   "display_name": "Python 3 (ipykernel)",
   "language": "python",
   "name": "python3"
  },
  "language_info": {
   "codemirror_mode": {
    "name": "ipython",
    "version": 3
   },
   "file_extension": ".py",
   "mimetype": "text/x-python",
   "name": "python",
   "nbconvert_exporter": "python",
   "pygments_lexer": "ipython3",
   "version": "3.10.8"
  }
 },
 "nbformat": 4,
 "nbformat_minor": 5
}
